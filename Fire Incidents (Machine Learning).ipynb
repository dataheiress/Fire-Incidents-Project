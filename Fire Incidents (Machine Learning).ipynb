{
 "cells": [
  {
   "cell_type": "markdown",
   "id": "0dd5d666",
   "metadata": {},
   "source": [
    "# Fire Incidents"
   ]
  },
  {
   "cell_type": "markdown",
   "id": "b389d20e",
   "metadata": {},
   "source": [
    "### Objective"
   ]
  },
  {
   "cell_type": "markdown",
   "id": "b9b713ce",
   "metadata": {},
   "source": [
    "We want to use the dataset to predict the estimated dollar loss for fire incidents."
   ]
  },
  {
   "cell_type": "markdown",
   "id": "3adea3b3",
   "metadata": {},
   "source": [
    "## Import the relevant libraries"
   ]
  },
  {
   "cell_type": "code",
   "execution_count": 1,
   "id": "12856095",
   "metadata": {},
   "outputs": [],
   "source": [
    "import numpy as np\n",
    "import pandas as pd\n",
    "import matplotlib.pyplot as plt\n",
    "import seaborn as sns\n",
    "sns.set()\n",
    "\n",
    "%matplotlib inline"
   ]
  },
  {
   "cell_type": "markdown",
   "id": "128cc545",
   "metadata": {},
   "source": [
    "## Load the dataset"
   ]
  },
  {
   "cell_type": "code",
   "execution_count": 2,
   "id": "cffbd8d2",
   "metadata": {
    "scrolled": true
   },
   "outputs": [
    {
     "data": {
      "text/html": [
       "<div>\n",
       "<style scoped>\n",
       "    .dataframe tbody tr th:only-of-type {\n",
       "        vertical-align: middle;\n",
       "    }\n",
       "\n",
       "    .dataframe tbody tr th {\n",
       "        vertical-align: top;\n",
       "    }\n",
       "\n",
       "    .dataframe thead th {\n",
       "        text-align: right;\n",
       "    }\n",
       "</style>\n",
       "<table border=\"1\" class=\"dataframe\">\n",
       "  <thead>\n",
       "    <tr style=\"text-align: right;\">\n",
       "      <th></th>\n",
       "      <th>Area_of_Origin</th>\n",
       "      <th>Business_Impact</th>\n",
       "      <th>Civilian_Casualties</th>\n",
       "      <th>Count_of_Persons_Rescued</th>\n",
       "      <th>Estimated_Dollar_Loss</th>\n",
       "      <th>Estimated_Number_Of_Persons_Displaced</th>\n",
       "      <th>Ext_agent_app_or_defer_time</th>\n",
       "      <th>Extent_Of_Fire</th>\n",
       "      <th>Fire_Alarm_System_Impact_on_Evacuation</th>\n",
       "      <th>Fire_Alarm_System_Operation</th>\n",
       "      <th>...</th>\n",
       "      <th>Longitude</th>\n",
       "      <th>Material_First_Ignited</th>\n",
       "      <th>Method_Of_Fire_Control</th>\n",
       "      <th>Possible_Cause</th>\n",
       "      <th>Property_Use</th>\n",
       "      <th>Smoke_Alarm_at_Fire_Origin_Alarm_Failure</th>\n",
       "      <th>Smoke_Alarm_at_Fire_Origin_Alarm_Type</th>\n",
       "      <th>Status_of_Fire_On_Arrival</th>\n",
       "      <th>TFS_Alarm_Time</th>\n",
       "      <th>TFS_Arrival_Time</th>\n",
       "    </tr>\n",
       "  </thead>\n",
       "  <tbody>\n",
       "    <tr>\n",
       "      <th>0</th>\n",
       "      <td>Porch or Balcony</td>\n",
       "      <td>No business interruption</td>\n",
       "      <td>0</td>\n",
       "      <td>86</td>\n",
       "      <td>3000</td>\n",
       "      <td>0</td>\n",
       "      <td>2018-08-24 17:06:26</td>\n",
       "      <td>Confined to object of origin</td>\n",
       "      <td>Not applicable: Occupant(s) first alerted by o...</td>\n",
       "      <td>Fire alarm system did not operate</td>\n",
       "      <td>...</td>\n",
       "      <td>-79.412479</td>\n",
       "      <td>Undetermined (formerly 98)</td>\n",
       "      <td>Extinguished by fire department</td>\n",
       "      <td>Undetermined</td>\n",
       "      <td>Multi-Unit Dwelling - Over 12 Units</td>\n",
       "      <td>Not applicable: Alarm operated OR presence/ope...</td>\n",
       "      <td>Hardwired (standalone)</td>\n",
       "      <td>Fire with smoke showing only - including vehic...</td>\n",
       "      <td>2018-08-24 16:49:36</td>\n",
       "      <td>2018-08-24 16:54:09</td>\n",
       "    </tr>\n",
       "    <tr>\n",
       "      <th>1</th>\n",
       "      <td>Cooking Area or Kitchen</td>\n",
       "      <td>Undetermined</td>\n",
       "      <td>0</td>\n",
       "      <td>28</td>\n",
       "      <td>50000</td>\n",
       "      <td>28</td>\n",
       "      <td>2018-11-24 07:19:00</td>\n",
       "      <td>Confined to part of room/area of origin</td>\n",
       "      <td>Not applicable: Occupant(s) first alerted by o...</td>\n",
       "      <td>Fire alarm system operated</td>\n",
       "      <td>...</td>\n",
       "      <td>-79.530419</td>\n",
       "      <td>Plastic</td>\n",
       "      <td>Extinguished by occupant</td>\n",
       "      <td>Under Investigation</td>\n",
       "      <td>Other</td>\n",
       "      <td>Not applicable: Alarm operated OR presence/ope...</td>\n",
       "      <td>Interconnected</td>\n",
       "      <td>Fire extinguished prior to arrival</td>\n",
       "      <td>2018-11-24 07:09:12</td>\n",
       "      <td>2018-11-24 07:14:23</td>\n",
       "    </tr>\n",
       "    <tr>\n",
       "      <th>2</th>\n",
       "      <td>Living Area (e.g. living, TV, recreation, etc)</td>\n",
       "      <td>Not applicable (not a business)</td>\n",
       "      <td>1</td>\n",
       "      <td>16</td>\n",
       "      <td>1000000</td>\n",
       "      <td>130</td>\n",
       "      <td>2017-02-09 18:02:13</td>\n",
       "      <td>Spread beyond room of origin, same floor</td>\n",
       "      <td>Some persons (at risk) evacuated as a result o...</td>\n",
       "      <td>Fire alarm system operated</td>\n",
       "      <td>...</td>\n",
       "      <td>-79.373460</td>\n",
       "      <td>Undetermined (formerly 98)</td>\n",
       "      <td>Extinguished by fire department</td>\n",
       "      <td>Undetermined</td>\n",
       "      <td>Multi-Unit Dwelling - Over 12 Units</td>\n",
       "      <td>Not applicable: Alarm operated OR presence/ope...</td>\n",
       "      <td>Hardwired (standalone)</td>\n",
       "      <td>Flames showing from small area (one storey or ...</td>\n",
       "      <td>2017-02-09 17:45:07</td>\n",
       "      <td>2017-02-09 17:48:49</td>\n",
       "    </tr>\n",
       "    <tr>\n",
       "      <th>3</th>\n",
       "      <td>Undetermined  (formerly 98)</td>\n",
       "      <td>May not resume operations</td>\n",
       "      <td>0</td>\n",
       "      <td>12</td>\n",
       "      <td>1000000</td>\n",
       "      <td>14</td>\n",
       "      <td>2012-10-30 00:52:04</td>\n",
       "      <td>Entire Structure</td>\n",
       "      <td>Undetermined</td>\n",
       "      <td>Fire alarm system operation undetermined</td>\n",
       "      <td>...</td>\n",
       "      <td>-79.393700</td>\n",
       "      <td>Undetermined (formerly 98)</td>\n",
       "      <td>Extinguished by fire department</td>\n",
       "      <td>Undetermined</td>\n",
       "      <td>Other</td>\n",
       "      <td>Not applicable: Alarm operated OR presence/ope...</td>\n",
       "      <td>Type undetermined</td>\n",
       "      <td>Flames showing from large area (more than one ...</td>\n",
       "      <td>2012-10-30 00:42:01</td>\n",
       "      <td>2012-10-30 00:44:58</td>\n",
       "    </tr>\n",
       "    <tr>\n",
       "      <th>4</th>\n",
       "      <td>Sleeping Area or Bedroom (inc. patients room, ...</td>\n",
       "      <td>Not applicable (not a business)</td>\n",
       "      <td>8</td>\n",
       "      <td>11</td>\n",
       "      <td>125000</td>\n",
       "      <td>2</td>\n",
       "      <td>2018-07-08 04:35:00</td>\n",
       "      <td>Spread beyond room of origin, same floor</td>\n",
       "      <td>Some persons (at risk) evacuated as a result o...</td>\n",
       "      <td>Fire alarm system operated</td>\n",
       "      <td>...</td>\n",
       "      <td>-79.511539</td>\n",
       "      <td>Other</td>\n",
       "      <td>Extinguished by fire department</td>\n",
       "      <td>Suspected Arson</td>\n",
       "      <td>Multi-Unit Dwelling - Over 12 Units</td>\n",
       "      <td>Not applicable: Alarm operated OR presence/ope...</td>\n",
       "      <td>Interconnected</td>\n",
       "      <td>Fire with no evidence from street</td>\n",
       "      <td>2018-07-08 04:08:50</td>\n",
       "      <td>2018-07-08 04:13:54</td>\n",
       "    </tr>\n",
       "  </tbody>\n",
       "</table>\n",
       "<p>5 rows × 27 columns</p>\n",
       "</div>"
      ],
      "text/plain": [
       "                                      Area_of_Origin  \\\n",
       "0                                   Porch or Balcony   \n",
       "1                            Cooking Area or Kitchen   \n",
       "2     Living Area (e.g. living, TV, recreation, etc)   \n",
       "3                        Undetermined  (formerly 98)   \n",
       "4  Sleeping Area or Bedroom (inc. patients room, ...   \n",
       "\n",
       "                   Business_Impact  Civilian_Casualties  \\\n",
       "0         No business interruption                    0   \n",
       "1                     Undetermined                    0   \n",
       "2  Not applicable (not a business)                    1   \n",
       "3        May not resume operations                    0   \n",
       "4  Not applicable (not a business)                    8   \n",
       "\n",
       "   Count_of_Persons_Rescued  Estimated_Dollar_Loss  \\\n",
       "0                        86                   3000   \n",
       "1                        28                  50000   \n",
       "2                        16                1000000   \n",
       "3                        12                1000000   \n",
       "4                        11                 125000   \n",
       "\n",
       "   Estimated_Number_Of_Persons_Displaced Ext_agent_app_or_defer_time  \\\n",
       "0                                      0         2018-08-24 17:06:26   \n",
       "1                                     28         2018-11-24 07:19:00   \n",
       "2                                    130         2017-02-09 18:02:13   \n",
       "3                                     14         2012-10-30 00:52:04   \n",
       "4                                      2         2018-07-08 04:35:00   \n",
       "\n",
       "                             Extent_Of_Fire  \\\n",
       "0              Confined to object of origin   \n",
       "1   Confined to part of room/area of origin   \n",
       "2  Spread beyond room of origin, same floor   \n",
       "3                          Entire Structure   \n",
       "4  Spread beyond room of origin, same floor   \n",
       "\n",
       "              Fire_Alarm_System_Impact_on_Evacuation  \\\n",
       "0  Not applicable: Occupant(s) first alerted by o...   \n",
       "1  Not applicable: Occupant(s) first alerted by o...   \n",
       "2  Some persons (at risk) evacuated as a result o...   \n",
       "3                                       Undetermined   \n",
       "4  Some persons (at risk) evacuated as a result o...   \n",
       "\n",
       "                Fire_Alarm_System_Operation  ...  Longitude  \\\n",
       "0         Fire alarm system did not operate  ... -79.412479   \n",
       "1                Fire alarm system operated  ... -79.530419   \n",
       "2                Fire alarm system operated  ... -79.373460   \n",
       "3  Fire alarm system operation undetermined  ... -79.393700   \n",
       "4                Fire alarm system operated  ... -79.511539   \n",
       "\n",
       "       Material_First_Ignited           Method_Of_Fire_Control  \\\n",
       "0  Undetermined (formerly 98)  Extinguished by fire department   \n",
       "1                     Plastic         Extinguished by occupant   \n",
       "2  Undetermined (formerly 98)  Extinguished by fire department   \n",
       "3  Undetermined (formerly 98)  Extinguished by fire department   \n",
       "4                       Other  Extinguished by fire department   \n",
       "\n",
       "        Possible_Cause                         Property_Use  \\\n",
       "0         Undetermined  Multi-Unit Dwelling - Over 12 Units   \n",
       "1  Under Investigation                                Other   \n",
       "2         Undetermined  Multi-Unit Dwelling - Over 12 Units   \n",
       "3         Undetermined                                Other   \n",
       "4      Suspected Arson  Multi-Unit Dwelling - Over 12 Units   \n",
       "\n",
       "            Smoke_Alarm_at_Fire_Origin_Alarm_Failure  \\\n",
       "0  Not applicable: Alarm operated OR presence/ope...   \n",
       "1  Not applicable: Alarm operated OR presence/ope...   \n",
       "2  Not applicable: Alarm operated OR presence/ope...   \n",
       "3  Not applicable: Alarm operated OR presence/ope...   \n",
       "4  Not applicable: Alarm operated OR presence/ope...   \n",
       "\n",
       "   Smoke_Alarm_at_Fire_Origin_Alarm_Type  \\\n",
       "0                 Hardwired (standalone)   \n",
       "1                         Interconnected   \n",
       "2                 Hardwired (standalone)   \n",
       "3                      Type undetermined   \n",
       "4                         Interconnected   \n",
       "\n",
       "                           Status_of_Fire_On_Arrival       TFS_Alarm_Time  \\\n",
       "0  Fire with smoke showing only - including vehic...  2018-08-24 16:49:36   \n",
       "1                 Fire extinguished prior to arrival  2018-11-24 07:09:12   \n",
       "2  Flames showing from small area (one storey or ...  2017-02-09 17:45:07   \n",
       "3  Flames showing from large area (more than one ...  2012-10-30 00:42:01   \n",
       "4                  Fire with no evidence from street  2018-07-08 04:08:50   \n",
       "\n",
       "      TFS_Arrival_Time  \n",
       "0  2018-08-24 16:54:09  \n",
       "1  2018-11-24 07:14:23  \n",
       "2  2017-02-09 17:48:49  \n",
       "3  2012-10-30 00:44:58  \n",
       "4  2018-07-08 04:13:54  \n",
       "\n",
       "[5 rows x 27 columns]"
      ]
     },
     "execution_count": 2,
     "metadata": {},
     "output_type": "execute_result"
    }
   ],
   "source": [
    "fire_data = pd.read_csv('Fire-Incidents-Cleaned.csv')\n",
    "fire_data.head()"
   ]
  },
  {
   "cell_type": "code",
   "execution_count": 3,
   "id": "212f1af0",
   "metadata": {
    "scrolled": true
   },
   "outputs": [
    {
     "data": {
      "text/plain": [
       "(11026, 27)"
      ]
     },
     "execution_count": 3,
     "metadata": {},
     "output_type": "execute_result"
    }
   ],
   "source": [
    "fire_data.shape"
   ]
  },
  {
   "cell_type": "code",
   "execution_count": 4,
   "id": "fc5af3e0",
   "metadata": {
    "scrolled": true
   },
   "outputs": [
    {
     "name": "stdout",
     "output_type": "stream",
     "text": [
      "<class 'pandas.core.frame.DataFrame'>\n",
      "RangeIndex: 11026 entries, 0 to 11025\n",
      "Data columns (total 27 columns):\n",
      " #   Column                                    Non-Null Count  Dtype  \n",
      "---  ------                                    --------------  -----  \n",
      " 0   Area_of_Origin                            11026 non-null  object \n",
      " 1   Business_Impact                           11026 non-null  object \n",
      " 2   Civilian_Casualties                       11026 non-null  int64  \n",
      " 3   Count_of_Persons_Rescued                  11026 non-null  int64  \n",
      " 4   Estimated_Dollar_Loss                     11026 non-null  int64  \n",
      " 5   Estimated_Number_Of_Persons_Displaced     11026 non-null  int64  \n",
      " 6   Ext_agent_app_or_defer_time               11026 non-null  object \n",
      " 7   Extent_Of_Fire                            11026 non-null  object \n",
      " 8   Fire_Alarm_System_Impact_on_Evacuation    11026 non-null  object \n",
      " 9   Fire_Alarm_System_Operation               11026 non-null  object \n",
      " 10  Fire_Alarm_System_Presence                11026 non-null  object \n",
      " 11  Fire_Under_Control_Time                   11026 non-null  object \n",
      " 12  Ignition_Source                           11026 non-null  object \n",
      " 13  Incident_Station_Area                     11026 non-null  int64  \n",
      " 14  Incident_Ward                             11026 non-null  int64  \n",
      " 15  Last_TFS_Unit_Clear_Time                  11026 non-null  object \n",
      " 16  Latitude                                  11026 non-null  float64\n",
      " 17  Longitude                                 11026 non-null  float64\n",
      " 18  Material_First_Ignited                    11026 non-null  object \n",
      " 19  Method_Of_Fire_Control                    11026 non-null  object \n",
      " 20  Possible_Cause                            11026 non-null  object \n",
      " 21  Property_Use                              11026 non-null  object \n",
      " 22  Smoke_Alarm_at_Fire_Origin_Alarm_Failure  11026 non-null  object \n",
      " 23  Smoke_Alarm_at_Fire_Origin_Alarm_Type     11026 non-null  object \n",
      " 24  Status_of_Fire_On_Arrival                 11026 non-null  object \n",
      " 25  TFS_Alarm_Time                            11026 non-null  object \n",
      " 26  TFS_Arrival_Time                          11026 non-null  object \n",
      "dtypes: float64(2), int64(6), object(19)\n",
      "memory usage: 2.3+ MB\n"
     ]
    }
   ],
   "source": [
    "fire_data.info()"
   ]
  },
  {
   "cell_type": "markdown",
   "id": "d600054f",
   "metadata": {},
   "source": [
    "Notice that the timestamp columns are now showing as object datatypes, so we will convert them to datatime."
   ]
  },
  {
   "cell_type": "code",
   "execution_count": 5,
   "id": "fade68fb",
   "metadata": {},
   "outputs": [],
   "source": [
    "fire_data['Ext_agent_app_or_defer_time'] = pd.to_datetime(fire_data['Ext_agent_app_or_defer_time'])\n",
    "fire_data['Fire_Under_Control_Time'] = pd.to_datetime(fire_data['Fire_Under_Control_Time'])\n",
    "fire_data['Last_TFS_Unit_Clear_Time'] = pd.to_datetime(fire_data['Last_TFS_Unit_Clear_Time'])\n",
    "fire_data['TFS_Alarm_Time'] = pd.to_datetime(fire_data['TFS_Alarm_Time'])\n",
    "fire_data['TFS_Arrival_Time'] = pd.to_datetime(fire_data['TFS_Arrival_Time'])"
   ]
  },
  {
   "cell_type": "code",
   "execution_count": 6,
   "id": "2b32dfb3",
   "metadata": {},
   "outputs": [
    {
     "name": "stdout",
     "output_type": "stream",
     "text": [
      "<class 'pandas.core.frame.DataFrame'>\n",
      "RangeIndex: 11026 entries, 0 to 11025\n",
      "Data columns (total 5 columns):\n",
      " #   Column                       Non-Null Count  Dtype         \n",
      "---  ------                       --------------  -----         \n",
      " 0   Ext_agent_app_or_defer_time  11026 non-null  datetime64[ns]\n",
      " 1   Fire_Under_Control_Time      11026 non-null  datetime64[ns]\n",
      " 2   Last_TFS_Unit_Clear_Time     11026 non-null  datetime64[ns]\n",
      " 3   TFS_Alarm_Time               11026 non-null  datetime64[ns]\n",
      " 4   TFS_Arrival_Time             11026 non-null  datetime64[ns]\n",
      "dtypes: datetime64[ns](5)\n",
      "memory usage: 430.8 KB\n"
     ]
    }
   ],
   "source": [
    "time_data = fire_data[['Ext_agent_app_or_defer_time', 'Fire_Under_Control_Time', 'Last_TFS_Unit_Clear_Time',\n",
    "                         'TFS_Alarm_Time', 'TFS_Arrival_Time']].copy()\n",
    "time_data.info()"
   ]
  },
  {
   "cell_type": "markdown",
   "id": "a486d529",
   "metadata": {},
   "source": [
    "We want to predict a continuous variable and we will use the Linear Regression. For us to apply the machine learning algorithm, we have to change the dataset to contain only numerical columns. We will focus on encoding our categorical columns and converting the datetime columns."
   ]
  },
  {
   "cell_type": "markdown",
   "id": "0454c8cc",
   "metadata": {},
   "source": [
    "### Encoding the categorical data"
   ]
  },
  {
   "cell_type": "markdown",
   "id": "e0ab54f3",
   "metadata": {},
   "source": [
    "We will use the Ordinal Encoder. From the documentation of sklearn, LabelEncoder is for converting target variable while OrdinalEncoder is for converting the categorical features."
   ]
  },
  {
   "cell_type": "code",
   "execution_count": 7,
   "id": "6839316d",
   "metadata": {},
   "outputs": [],
   "source": [
    "from sklearn.preprocessing import OrdinalEncoder"
   ]
  },
  {
   "cell_type": "code",
   "execution_count": 8,
   "id": "b61929a2",
   "metadata": {},
   "outputs": [],
   "source": [
    "# Creating a instance of Ordinal Encoder.\n",
    "ordinalencoder = OrdinalEncoder()"
   ]
  },
  {
   "cell_type": "code",
   "execution_count": 9,
   "id": "750c48b6",
   "metadata": {},
   "outputs": [],
   "source": [
    "# Creating a list of all the categorical features\n",
    "\n",
    "cols = ['Area_of_Origin', 'Business_Impact', 'Extent_Of_Fire', 'Fire_Alarm_System_Impact_on_Evacuation',\n",
    "        'Fire_Alarm_System_Operation', 'Fire_Alarm_System_Presence', 'Ignition_Source', 'Material_First_Ignited',\n",
    "        'Method_Of_Fire_Control', 'Possible_Cause', 'Property_Use', 'Smoke_Alarm_at_Fire_Origin_Alarm_Failure',\n",
    "        'Smoke_Alarm_at_Fire_Origin_Alarm_Type', 'Status_of_Fire_On_Arrival']"
   ]
  },
  {
   "cell_type": "code",
   "execution_count": 10,
   "id": "6b58ae57",
   "metadata": {
    "scrolled": true
   },
   "outputs": [
    {
     "data": {
      "text/html": [
       "<div>\n",
       "<style scoped>\n",
       "    .dataframe tbody tr th:only-of-type {\n",
       "        vertical-align: middle;\n",
       "    }\n",
       "\n",
       "    .dataframe tbody tr th {\n",
       "        vertical-align: top;\n",
       "    }\n",
       "\n",
       "    .dataframe thead th {\n",
       "        text-align: right;\n",
       "    }\n",
       "</style>\n",
       "<table border=\"1\" class=\"dataframe\">\n",
       "  <thead>\n",
       "    <tr style=\"text-align: right;\">\n",
       "      <th></th>\n",
       "      <th>Area_of_Origin</th>\n",
       "      <th>Business_Impact</th>\n",
       "      <th>Civilian_Casualties</th>\n",
       "      <th>Count_of_Persons_Rescued</th>\n",
       "      <th>Estimated_Dollar_Loss</th>\n",
       "      <th>Estimated_Number_Of_Persons_Displaced</th>\n",
       "      <th>Ext_agent_app_or_defer_time</th>\n",
       "      <th>Extent_Of_Fire</th>\n",
       "      <th>Fire_Alarm_System_Impact_on_Evacuation</th>\n",
       "      <th>Fire_Alarm_System_Operation</th>\n",
       "      <th>...</th>\n",
       "      <th>Longitude</th>\n",
       "      <th>Material_First_Ignited</th>\n",
       "      <th>Method_Of_Fire_Control</th>\n",
       "      <th>Possible_Cause</th>\n",
       "      <th>Property_Use</th>\n",
       "      <th>Smoke_Alarm_at_Fire_Origin_Alarm_Failure</th>\n",
       "      <th>Smoke_Alarm_at_Fire_Origin_Alarm_Type</th>\n",
       "      <th>Status_of_Fire_On_Arrival</th>\n",
       "      <th>TFS_Alarm_Time</th>\n",
       "      <th>TFS_Arrival_Time</th>\n",
       "    </tr>\n",
       "  </thead>\n",
       "  <tbody>\n",
       "    <tr>\n",
       "      <th>0</th>\n",
       "      <td>16.0</td>\n",
       "      <td>4.0</td>\n",
       "      <td>0</td>\n",
       "      <td>86</td>\n",
       "      <td>3000</td>\n",
       "      <td>0</td>\n",
       "      <td>2018-08-24 17:06:26</td>\n",
       "      <td>0.0</td>\n",
       "      <td>4.0</td>\n",
       "      <td>0.0</td>\n",
       "      <td>...</td>\n",
       "      <td>-79.412479</td>\n",
       "      <td>14.0</td>\n",
       "      <td>2.0</td>\n",
       "      <td>19.0</td>\n",
       "      <td>8.0</td>\n",
       "      <td>4.0</td>\n",
       "      <td>1.0</td>\n",
       "      <td>3.0</td>\n",
       "      <td>2018-08-24 16:49:36</td>\n",
       "      <td>2018-08-24 16:54:09</td>\n",
       "    </tr>\n",
       "    <tr>\n",
       "      <th>1</th>\n",
       "      <td>2.0</td>\n",
       "      <td>6.0</td>\n",
       "      <td>0</td>\n",
       "      <td>28</td>\n",
       "      <td>50000</td>\n",
       "      <td>28</td>\n",
       "      <td>2018-11-24 07:19:00</td>\n",
       "      <td>1.0</td>\n",
       "      <td>4.0</td>\n",
       "      <td>1.0</td>\n",
       "      <td>...</td>\n",
       "      <td>-79.530419</td>\n",
       "      <td>12.0</td>\n",
       "      <td>3.0</td>\n",
       "      <td>18.0</td>\n",
       "      <td>9.0</td>\n",
       "      <td>4.0</td>\n",
       "      <td>2.0</td>\n",
       "      <td>1.0</td>\n",
       "      <td>2018-11-24 07:09:12</td>\n",
       "      <td>2018-11-24 07:14:23</td>\n",
       "    </tr>\n",
       "    <tr>\n",
       "      <th>2</th>\n",
       "      <td>11.0</td>\n",
       "      <td>5.0</td>\n",
       "      <td>1</td>\n",
       "      <td>16</td>\n",
       "      <td>1000000</td>\n",
       "      <td>130</td>\n",
       "      <td>2017-02-09 18:02:13</td>\n",
       "      <td>8.0</td>\n",
       "      <td>5.0</td>\n",
       "      <td>1.0</td>\n",
       "      <td>...</td>\n",
       "      <td>-79.373460</td>\n",
       "      <td>14.0</td>\n",
       "      <td>2.0</td>\n",
       "      <td>19.0</td>\n",
       "      <td>8.0</td>\n",
       "      <td>4.0</td>\n",
       "      <td>1.0</td>\n",
       "      <td>5.0</td>\n",
       "      <td>2017-02-09 17:45:07</td>\n",
       "      <td>2017-02-09 17:48:49</td>\n",
       "    </tr>\n",
       "    <tr>\n",
       "      <th>3</th>\n",
       "      <td>22.0</td>\n",
       "      <td>0.0</td>\n",
       "      <td>0</td>\n",
       "      <td>12</td>\n",
       "      <td>1000000</td>\n",
       "      <td>14</td>\n",
       "      <td>2012-10-30 00:52:04</td>\n",
       "      <td>3.0</td>\n",
       "      <td>6.0</td>\n",
       "      <td>2.0</td>\n",
       "      <td>...</td>\n",
       "      <td>-79.393700</td>\n",
       "      <td>14.0</td>\n",
       "      <td>2.0</td>\n",
       "      <td>19.0</td>\n",
       "      <td>9.0</td>\n",
       "      <td>4.0</td>\n",
       "      <td>4.0</td>\n",
       "      <td>4.0</td>\n",
       "      <td>2012-10-30 00:42:01</td>\n",
       "      <td>2012-10-30 00:44:58</td>\n",
       "    </tr>\n",
       "    <tr>\n",
       "      <th>4</th>\n",
       "      <td>19.0</td>\n",
       "      <td>5.0</td>\n",
       "      <td>8</td>\n",
       "      <td>11</td>\n",
       "      <td>125000</td>\n",
       "      <td>2</td>\n",
       "      <td>2018-07-08 04:35:00</td>\n",
       "      <td>8.0</td>\n",
       "      <td>5.0</td>\n",
       "      <td>1.0</td>\n",
       "      <td>...</td>\n",
       "      <td>-79.511539</td>\n",
       "      <td>9.0</td>\n",
       "      <td>2.0</td>\n",
       "      <td>14.0</td>\n",
       "      <td>8.0</td>\n",
       "      <td>4.0</td>\n",
       "      <td>2.0</td>\n",
       "      <td>2.0</td>\n",
       "      <td>2018-07-08 04:08:50</td>\n",
       "      <td>2018-07-08 04:13:54</td>\n",
       "    </tr>\n",
       "    <tr>\n",
       "      <th>5</th>\n",
       "      <td>5.0</td>\n",
       "      <td>4.0</td>\n",
       "      <td>0</td>\n",
       "      <td>11</td>\n",
       "      <td>100000</td>\n",
       "      <td>0</td>\n",
       "      <td>2019-02-18 10:26:25</td>\n",
       "      <td>0.0</td>\n",
       "      <td>3.0</td>\n",
       "      <td>3.0</td>\n",
       "      <td>...</td>\n",
       "      <td>-79.399979</td>\n",
       "      <td>3.0</td>\n",
       "      <td>2.0</td>\n",
       "      <td>2.0</td>\n",
       "      <td>2.0</td>\n",
       "      <td>4.0</td>\n",
       "      <td>3.0</td>\n",
       "      <td>5.0</td>\n",
       "      <td>2019-02-18 10:19:01</td>\n",
       "      <td>2019-02-18 10:23:27</td>\n",
       "    </tr>\n",
       "    <tr>\n",
       "      <th>6</th>\n",
       "      <td>13.0</td>\n",
       "      <td>1.0</td>\n",
       "      <td>0</td>\n",
       "      <td>11</td>\n",
       "      <td>30000</td>\n",
       "      <td>13</td>\n",
       "      <td>2015-03-07 04:49:35</td>\n",
       "      <td>1.0</td>\n",
       "      <td>4.0</td>\n",
       "      <td>1.0</td>\n",
       "      <td>...</td>\n",
       "      <td>-79.429400</td>\n",
       "      <td>9.0</td>\n",
       "      <td>2.0</td>\n",
       "      <td>2.0</td>\n",
       "      <td>9.0</td>\n",
       "      <td>4.0</td>\n",
       "      <td>1.0</td>\n",
       "      <td>2.0</td>\n",
       "      <td>2015-03-07 04:38:13</td>\n",
       "      <td>2015-03-07 04:44:28</td>\n",
       "    </tr>\n",
       "    <tr>\n",
       "      <th>7</th>\n",
       "      <td>2.0</td>\n",
       "      <td>4.0</td>\n",
       "      <td>8</td>\n",
       "      <td>11</td>\n",
       "      <td>50000</td>\n",
       "      <td>40</td>\n",
       "      <td>2014-06-09 16:15:00</td>\n",
       "      <td>1.0</td>\n",
       "      <td>3.0</td>\n",
       "      <td>3.0</td>\n",
       "      <td>...</td>\n",
       "      <td>-79.443970</td>\n",
       "      <td>2.0</td>\n",
       "      <td>2.0</td>\n",
       "      <td>17.0</td>\n",
       "      <td>8.0</td>\n",
       "      <td>6.0</td>\n",
       "      <td>0.0</td>\n",
       "      <td>2.0</td>\n",
       "      <td>2014-06-09 16:05:44</td>\n",
       "      <td>2014-06-09 16:09:50</td>\n",
       "    </tr>\n",
       "    <tr>\n",
       "      <th>8</th>\n",
       "      <td>11.0</td>\n",
       "      <td>6.0</td>\n",
       "      <td>0</td>\n",
       "      <td>10</td>\n",
       "      <td>250000</td>\n",
       "      <td>10</td>\n",
       "      <td>2014-03-20 02:03:11</td>\n",
       "      <td>8.0</td>\n",
       "      <td>6.0</td>\n",
       "      <td>2.0</td>\n",
       "      <td>...</td>\n",
       "      <td>-79.398640</td>\n",
       "      <td>14.0</td>\n",
       "      <td>2.0</td>\n",
       "      <td>19.0</td>\n",
       "      <td>12.0</td>\n",
       "      <td>6.0</td>\n",
       "      <td>4.0</td>\n",
       "      <td>3.0</td>\n",
       "      <td>2014-03-20 01:53:12</td>\n",
       "      <td>2014-03-20 01:57:58</td>\n",
       "    </tr>\n",
       "    <tr>\n",
       "      <th>9</th>\n",
       "      <td>9.0</td>\n",
       "      <td>5.0</td>\n",
       "      <td>2</td>\n",
       "      <td>10</td>\n",
       "      <td>450000</td>\n",
       "      <td>200</td>\n",
       "      <td>2011-02-16 00:44:00</td>\n",
       "      <td>10.0</td>\n",
       "      <td>5.0</td>\n",
       "      <td>1.0</td>\n",
       "      <td>...</td>\n",
       "      <td>-79.350870</td>\n",
       "      <td>3.0</td>\n",
       "      <td>2.0</td>\n",
       "      <td>2.0</td>\n",
       "      <td>8.0</td>\n",
       "      <td>4.0</td>\n",
       "      <td>2.0</td>\n",
       "      <td>2.0</td>\n",
       "      <td>2011-02-15 23:22:11</td>\n",
       "      <td>2011-02-15 23:26:53</td>\n",
       "    </tr>\n",
       "  </tbody>\n",
       "</table>\n",
       "<p>10 rows × 27 columns</p>\n",
       "</div>"
      ],
      "text/plain": [
       "   Area_of_Origin  Business_Impact  Civilian_Casualties  \\\n",
       "0            16.0              4.0                    0   \n",
       "1             2.0              6.0                    0   \n",
       "2            11.0              5.0                    1   \n",
       "3            22.0              0.0                    0   \n",
       "4            19.0              5.0                    8   \n",
       "5             5.0              4.0                    0   \n",
       "6            13.0              1.0                    0   \n",
       "7             2.0              4.0                    8   \n",
       "8            11.0              6.0                    0   \n",
       "9             9.0              5.0                    2   \n",
       "\n",
       "   Count_of_Persons_Rescued  Estimated_Dollar_Loss  \\\n",
       "0                        86                   3000   \n",
       "1                        28                  50000   \n",
       "2                        16                1000000   \n",
       "3                        12                1000000   \n",
       "4                        11                 125000   \n",
       "5                        11                 100000   \n",
       "6                        11                  30000   \n",
       "7                        11                  50000   \n",
       "8                        10                 250000   \n",
       "9                        10                 450000   \n",
       "\n",
       "   Estimated_Number_Of_Persons_Displaced Ext_agent_app_or_defer_time  \\\n",
       "0                                      0         2018-08-24 17:06:26   \n",
       "1                                     28         2018-11-24 07:19:00   \n",
       "2                                    130         2017-02-09 18:02:13   \n",
       "3                                     14         2012-10-30 00:52:04   \n",
       "4                                      2         2018-07-08 04:35:00   \n",
       "5                                      0         2019-02-18 10:26:25   \n",
       "6                                     13         2015-03-07 04:49:35   \n",
       "7                                     40         2014-06-09 16:15:00   \n",
       "8                                     10         2014-03-20 02:03:11   \n",
       "9                                    200         2011-02-16 00:44:00   \n",
       "\n",
       "   Extent_Of_Fire  Fire_Alarm_System_Impact_on_Evacuation  \\\n",
       "0             0.0                                     4.0   \n",
       "1             1.0                                     4.0   \n",
       "2             8.0                                     5.0   \n",
       "3             3.0                                     6.0   \n",
       "4             8.0                                     5.0   \n",
       "5             0.0                                     3.0   \n",
       "6             1.0                                     4.0   \n",
       "7             1.0                                     3.0   \n",
       "8             8.0                                     6.0   \n",
       "9            10.0                                     5.0   \n",
       "\n",
       "   Fire_Alarm_System_Operation  ...  Longitude Material_First_Ignited  \\\n",
       "0                          0.0  ... -79.412479                   14.0   \n",
       "1                          1.0  ... -79.530419                   12.0   \n",
       "2                          1.0  ... -79.373460                   14.0   \n",
       "3                          2.0  ... -79.393700                   14.0   \n",
       "4                          1.0  ... -79.511539                    9.0   \n",
       "5                          3.0  ... -79.399979                    3.0   \n",
       "6                          1.0  ... -79.429400                    9.0   \n",
       "7                          3.0  ... -79.443970                    2.0   \n",
       "8                          2.0  ... -79.398640                   14.0   \n",
       "9                          1.0  ... -79.350870                    3.0   \n",
       "\n",
       "   Method_Of_Fire_Control  Possible_Cause  Property_Use  \\\n",
       "0                     2.0            19.0           8.0   \n",
       "1                     3.0            18.0           9.0   \n",
       "2                     2.0            19.0           8.0   \n",
       "3                     2.0            19.0           9.0   \n",
       "4                     2.0            14.0           8.0   \n",
       "5                     2.0             2.0           2.0   \n",
       "6                     2.0             2.0           9.0   \n",
       "7                     2.0            17.0           8.0   \n",
       "8                     2.0            19.0          12.0   \n",
       "9                     2.0             2.0           8.0   \n",
       "\n",
       "  Smoke_Alarm_at_Fire_Origin_Alarm_Failure  \\\n",
       "0                                      4.0   \n",
       "1                                      4.0   \n",
       "2                                      4.0   \n",
       "3                                      4.0   \n",
       "4                                      4.0   \n",
       "5                                      4.0   \n",
       "6                                      4.0   \n",
       "7                                      6.0   \n",
       "8                                      6.0   \n",
       "9                                      4.0   \n",
       "\n",
       "   Smoke_Alarm_at_Fire_Origin_Alarm_Type  Status_of_Fire_On_Arrival  \\\n",
       "0                                    1.0                        3.0   \n",
       "1                                    2.0                        1.0   \n",
       "2                                    1.0                        5.0   \n",
       "3                                    4.0                        4.0   \n",
       "4                                    2.0                        2.0   \n",
       "5                                    3.0                        5.0   \n",
       "6                                    1.0                        2.0   \n",
       "7                                    0.0                        2.0   \n",
       "8                                    4.0                        3.0   \n",
       "9                                    2.0                        2.0   \n",
       "\n",
       "       TFS_Alarm_Time    TFS_Arrival_Time  \n",
       "0 2018-08-24 16:49:36 2018-08-24 16:54:09  \n",
       "1 2018-11-24 07:09:12 2018-11-24 07:14:23  \n",
       "2 2017-02-09 17:45:07 2017-02-09 17:48:49  \n",
       "3 2012-10-30 00:42:01 2012-10-30 00:44:58  \n",
       "4 2018-07-08 04:08:50 2018-07-08 04:13:54  \n",
       "5 2019-02-18 10:19:01 2019-02-18 10:23:27  \n",
       "6 2015-03-07 04:38:13 2015-03-07 04:44:28  \n",
       "7 2014-06-09 16:05:44 2014-06-09 16:09:50  \n",
       "8 2014-03-20 01:53:12 2014-03-20 01:57:58  \n",
       "9 2011-02-15 23:22:11 2011-02-15 23:26:53  \n",
       "\n",
       "[10 rows x 27 columns]"
      ]
     },
     "execution_count": 10,
     "metadata": {},
     "output_type": "execute_result"
    }
   ],
   "source": [
    "# Fit ordinal encoder and return encoded label\n",
    "\n",
    "fire_data[cols] = ordinalencoder.fit_transform(fire_data[cols])\n",
    "fire_data.head(10)"
   ]
  },
  {
   "cell_type": "markdown",
   "id": "e15a5a85",
   "metadata": {},
   "source": [
    "### Converting the datetime for the linear regression"
   ]
  },
  {
   "cell_type": "code",
   "execution_count": 11,
   "id": "0a44420a",
   "metadata": {},
   "outputs": [],
   "source": [
    "import datetime as dt"
   ]
  },
  {
   "cell_type": "code",
   "execution_count": 12,
   "id": "9792ef17",
   "metadata": {},
   "outputs": [],
   "source": [
    "fire_data['Ext_agent_app_or_defer_time'] = fire_data['Ext_agent_app_or_defer_time'].map(dt.datetime.toordinal)\n",
    "fire_data['Fire_Under_Control_Time'] = fire_data['Fire_Under_Control_Time'].map(dt.datetime.toordinal)\n",
    "fire_data['Last_TFS_Unit_Clear_Time'] = fire_data['Last_TFS_Unit_Clear_Time'].map(dt.datetime.toordinal)\n",
    "fire_data['TFS_Alarm_Time'] = fire_data['TFS_Alarm_Time'].map(dt.datetime.toordinal)\n",
    "fire_data['TFS_Arrival_Time'] = fire_data['TFS_Arrival_Time'].map(dt.datetime.toordinal)"
   ]
  },
  {
   "cell_type": "code",
   "execution_count": 13,
   "id": "db362287",
   "metadata": {},
   "outputs": [
    {
     "name": "stdout",
     "output_type": "stream",
     "text": [
      "<class 'pandas.core.frame.DataFrame'>\n",
      "RangeIndex: 11026 entries, 0 to 11025\n",
      "Data columns (total 5 columns):\n",
      " #   Column                       Non-Null Count  Dtype\n",
      "---  ------                       --------------  -----\n",
      " 0   Ext_agent_app_or_defer_time  11026 non-null  int64\n",
      " 1   Fire_Under_Control_Time      11026 non-null  int64\n",
      " 2   Last_TFS_Unit_Clear_Time     11026 non-null  int64\n",
      " 3   TFS_Alarm_Time               11026 non-null  int64\n",
      " 4   TFS_Arrival_Time             11026 non-null  int64\n",
      "dtypes: int64(5)\n",
      "memory usage: 430.8 KB\n"
     ]
    }
   ],
   "source": [
    "time_data_1 = fire_data[['Ext_agent_app_or_defer_time', 'Fire_Under_Control_Time', 'Last_TFS_Unit_Clear_Time',\n",
    "                         'TFS_Alarm_Time', 'TFS_Arrival_Time']].copy()\n",
    "time_data_1.info()"
   ]
  },
  {
   "cell_type": "markdown",
   "id": "bb189463",
   "metadata": {},
   "source": [
    "Now that our dataset is ready, we will plot a heatmap to see the correlation between the features an the target variables."
   ]
  },
  {
   "cell_type": "code",
   "execution_count": 14,
   "id": "474d6cdf",
   "metadata": {
    "scrolled": true
   },
   "outputs": [
    {
     "data": {
      "text/plain": [
       "<AxesSubplot:>"
      ]
     },
     "execution_count": 14,
     "metadata": {},
     "output_type": "execute_result"
    },
    {
     "data": {
      "image/png": "[encoded data removed]",
      "text/plain": [
       "<Figure size 1080x720 with 2 Axes>"
      ]
     },
     "metadata": {
      "needs_background": "light"
     },
     "output_type": "display_data"
    }
   ],
   "source": [
    "plt.subplots(figsize=(15,10))\n",
    "sns.heatmap(fire_data.corr(), linewidths = 0.5, cmap = 'coolwarm')"
   ]
  },
  {
   "cell_type": "markdown",
   "id": "7d47d1b3",
   "metadata": {},
   "source": [
    "We notice that our target vaiable (Estimated Dollar Loss) does not have a strong positive or negative correlation with other features. However, we will filter out some features we think does not help to predict the target variable."
   ]
  },
  {
   "cell_type": "code",
   "execution_count": 15,
   "id": "34c93b4d",
   "metadata": {},
   "outputs": [
    {
     "data": {
      "text/plain": [
       "(11026, 14)"
      ]
     },
     "execution_count": 15,
     "metadata": {},
     "output_type": "execute_result"
    }
   ],
   "source": [
    "fire_data.drop(['Ext_agent_app_or_defer_time', 'Incident_Station_Area', 'Incident_Ward', \n",
    "                'Last_TFS_Unit_Clear_Time', 'Latitude', 'Longitude', 'Material_First_Ignited', \n",
    "                'Method_Of_Fire_Control', 'Smoke_Alarm_at_Fire_Origin_Alarm_Failure', \n",
    "                'Smoke_Alarm_at_Fire_Origin_Alarm_Type', 'Status_of_Fire_On_Arrival', 'TFS_Alarm_Time', \n",
    "                'TFS_Arrival_Time'], axis=1, inplace=True)\n",
    "fire_data.shape"
   ]
  },
  {
   "cell_type": "code",
   "execution_count": 16,
   "id": "a0679768",
   "metadata": {
    "scrolled": true
   },
   "outputs": [
    {
     "name": "stderr",
     "output_type": "stream",
     "text": [
      "/Users/hadassah/opt/anaconda3/lib/python3.8/site-packages/seaborn/distributions.py:2557: FutureWarning: `distplot` is a deprecated function and will be removed in a future version. Please adapt your code to use either `displot` (a figure-level function with similar flexibility) or `histplot` (an axes-level function for histograms).\n",
      "  warnings.warn(msg, FutureWarning)\n"
     ]
    },
    {
     "data": {
      "text/plain": [
       "<AxesSubplot:xlabel='Estimated_Dollar_Loss', ylabel='Density'>"
      ]
     },
     "execution_count": 16,
     "metadata": {},
     "output_type": "execute_result"
    },
    {
     "data": {
      "image/png": "[encoded data removed]",
      "text/plain": [
       "<Figure size 432x288 with 1 Axes>"
      ]
     },
     "metadata": {
      "needs_background": "light"
     },
     "output_type": "display_data"
    }
   ],
   "source": [
    "# We want to see the probability distribution function (PDF) of a the target variable.\n",
    "\n",
    "sns.distplot(fire_data['Estimated_Dollar_Loss'])"
   ]
  },
  {
   "cell_type": "markdown",
   "id": "0579c2fb",
   "metadata": {},
   "source": [
    "The target variable has an exponential distribution, so we will transform it."
   ]
  },
  {
   "cell_type": "code",
   "execution_count": 17,
   "id": "01e3244e",
   "metadata": {
    "scrolled": true
   },
   "outputs": [
    {
     "name": "stderr",
     "output_type": "stream",
     "text": [
      "/Users/hadassah/opt/anaconda3/lib/python3.8/site-packages/pandas/core/arraylike.py:358: RuntimeWarning: divide by zero encountered in log\n",
      "  result = getattr(ufunc, method)(*inputs, **kwargs)\n"
     ]
    }
   ],
   "source": [
    "# Let's transform 'Price' with a log transformation\n",
    "Estimated_Dollar_Loss_Log = np.where(fire_data['Estimated_Dollar_Loss']!=0,\n",
    "                                     np.log(fire_data['Estimated_Dollar_Loss']),  0)"
   ]
  },
  {
   "cell_type": "code",
   "execution_count": 18,
   "id": "604f8e97",
   "metadata": {},
   "outputs": [
    {
     "data": {
      "text/html": [
       "<div>\n",
       "<style scoped>\n",
       "    .dataframe tbody tr th:only-of-type {\n",
       "        vertical-align: middle;\n",
       "    }\n",
       "\n",
       "    .dataframe tbody tr th {\n",
       "        vertical-align: top;\n",
       "    }\n",
       "\n",
       "    .dataframe thead th {\n",
       "        text-align: right;\n",
       "    }\n",
       "</style>\n",
       "<table border=\"1\" class=\"dataframe\">\n",
       "  <thead>\n",
       "    <tr style=\"text-align: right;\">\n",
       "      <th></th>\n",
       "      <th>Area_of_Origin</th>\n",
       "      <th>Business_Impact</th>\n",
       "      <th>Civilian_Casualties</th>\n",
       "      <th>Count_of_Persons_Rescued</th>\n",
       "      <th>Estimated_Dollar_Loss</th>\n",
       "      <th>Estimated_Number_Of_Persons_Displaced</th>\n",
       "      <th>Extent_Of_Fire</th>\n",
       "      <th>Fire_Alarm_System_Impact_on_Evacuation</th>\n",
       "      <th>Fire_Alarm_System_Operation</th>\n",
       "      <th>Fire_Alarm_System_Presence</th>\n",
       "      <th>Fire_Under_Control_Time</th>\n",
       "      <th>Ignition_Source</th>\n",
       "      <th>Possible_Cause</th>\n",
       "      <th>Property_Use</th>\n",
       "    </tr>\n",
       "  </thead>\n",
       "  <tbody>\n",
       "    <tr>\n",
       "      <th>0</th>\n",
       "      <td>16.0</td>\n",
       "      <td>4.0</td>\n",
       "      <td>0</td>\n",
       "      <td>86</td>\n",
       "      <td>8.006368</td>\n",
       "      <td>0</td>\n",
       "      <td>0.0</td>\n",
       "      <td>4.0</td>\n",
       "      <td>0.0</td>\n",
       "      <td>0.0</td>\n",
       "      <td>736930</td>\n",
       "      <td>19.0</td>\n",
       "      <td>19.0</td>\n",
       "      <td>8.0</td>\n",
       "    </tr>\n",
       "    <tr>\n",
       "      <th>1</th>\n",
       "      <td>2.0</td>\n",
       "      <td>6.0</td>\n",
       "      <td>0</td>\n",
       "      <td>28</td>\n",
       "      <td>10.819778</td>\n",
       "      <td>28</td>\n",
       "      <td>1.0</td>\n",
       "      <td>4.0</td>\n",
       "      <td>1.0</td>\n",
       "      <td>0.0</td>\n",
       "      <td>737022</td>\n",
       "      <td>12.0</td>\n",
       "      <td>18.0</td>\n",
       "      <td>9.0</td>\n",
       "    </tr>\n",
       "    <tr>\n",
       "      <th>2</th>\n",
       "      <td>11.0</td>\n",
       "      <td>5.0</td>\n",
       "      <td>1</td>\n",
       "      <td>16</td>\n",
       "      <td>13.815511</td>\n",
       "      <td>130</td>\n",
       "      <td>8.0</td>\n",
       "      <td>5.0</td>\n",
       "      <td>1.0</td>\n",
       "      <td>0.0</td>\n",
       "      <td>736369</td>\n",
       "      <td>19.0</td>\n",
       "      <td>19.0</td>\n",
       "      <td>8.0</td>\n",
       "    </tr>\n",
       "    <tr>\n",
       "      <th>3</th>\n",
       "      <td>22.0</td>\n",
       "      <td>0.0</td>\n",
       "      <td>0</td>\n",
       "      <td>12</td>\n",
       "      <td>13.815511</td>\n",
       "      <td>14</td>\n",
       "      <td>3.0</td>\n",
       "      <td>6.0</td>\n",
       "      <td>2.0</td>\n",
       "      <td>3.0</td>\n",
       "      <td>734806</td>\n",
       "      <td>19.0</td>\n",
       "      <td>19.0</td>\n",
       "      <td>9.0</td>\n",
       "    </tr>\n",
       "    <tr>\n",
       "      <th>4</th>\n",
       "      <td>19.0</td>\n",
       "      <td>5.0</td>\n",
       "      <td>8</td>\n",
       "      <td>11</td>\n",
       "      <td>11.736069</td>\n",
       "      <td>2</td>\n",
       "      <td>8.0</td>\n",
       "      <td>5.0</td>\n",
       "      <td>1.0</td>\n",
       "      <td>0.0</td>\n",
       "      <td>736883</td>\n",
       "      <td>10.0</td>\n",
       "      <td>14.0</td>\n",
       "      <td>8.0</td>\n",
       "    </tr>\n",
       "    <tr>\n",
       "      <th>...</th>\n",
       "      <td>...</td>\n",
       "      <td>...</td>\n",
       "      <td>...</td>\n",
       "      <td>...</td>\n",
       "      <td>...</td>\n",
       "      <td>...</td>\n",
       "      <td>...</td>\n",
       "      <td>...</td>\n",
       "      <td>...</td>\n",
       "      <td>...</td>\n",
       "      <td>...</td>\n",
       "      <td>...</td>\n",
       "      <td>...</td>\n",
       "      <td>...</td>\n",
       "    </tr>\n",
       "    <tr>\n",
       "      <th>11021</th>\n",
       "      <td>20.0</td>\n",
       "      <td>4.0</td>\n",
       "      <td>0</td>\n",
       "      <td>0</td>\n",
       "      <td>0.000000</td>\n",
       "      <td>0</td>\n",
       "      <td>0.0</td>\n",
       "      <td>0.0</td>\n",
       "      <td>1.0</td>\n",
       "      <td>0.0</td>\n",
       "      <td>736748</td>\n",
       "      <td>19.0</td>\n",
       "      <td>6.0</td>\n",
       "      <td>8.0</td>\n",
       "    </tr>\n",
       "    <tr>\n",
       "      <th>11022</th>\n",
       "      <td>13.0</td>\n",
       "      <td>4.0</td>\n",
       "      <td>0</td>\n",
       "      <td>0</td>\n",
       "      <td>6.907755</td>\n",
       "      <td>0</td>\n",
       "      <td>0.0</td>\n",
       "      <td>0.0</td>\n",
       "      <td>1.0</td>\n",
       "      <td>0.0</td>\n",
       "      <td>736749</td>\n",
       "      <td>4.0</td>\n",
       "      <td>2.0</td>\n",
       "      <td>4.0</td>\n",
       "    </tr>\n",
       "    <tr>\n",
       "      <th>11023</th>\n",
       "      <td>13.0</td>\n",
       "      <td>4.0</td>\n",
       "      <td>0</td>\n",
       "      <td>0</td>\n",
       "      <td>0.000000</td>\n",
       "      <td>0</td>\n",
       "      <td>0.0</td>\n",
       "      <td>0.0</td>\n",
       "      <td>1.0</td>\n",
       "      <td>0.0</td>\n",
       "      <td>736749</td>\n",
       "      <td>2.0</td>\n",
       "      <td>10.0</td>\n",
       "      <td>4.0</td>\n",
       "    </tr>\n",
       "    <tr>\n",
       "      <th>11024</th>\n",
       "      <td>16.0</td>\n",
       "      <td>5.0</td>\n",
       "      <td>6</td>\n",
       "      <td>0</td>\n",
       "      <td>11.512925</td>\n",
       "      <td>1</td>\n",
       "      <td>1.0</td>\n",
       "      <td>0.0</td>\n",
       "      <td>1.0</td>\n",
       "      <td>0.0</td>\n",
       "      <td>736749</td>\n",
       "      <td>17.0</td>\n",
       "      <td>6.0</td>\n",
       "      <td>8.0</td>\n",
       "    </tr>\n",
       "    <tr>\n",
       "      <th>11025</th>\n",
       "      <td>20.0</td>\n",
       "      <td>4.0</td>\n",
       "      <td>0</td>\n",
       "      <td>0</td>\n",
       "      <td>4.605170</td>\n",
       "      <td>0</td>\n",
       "      <td>0.0</td>\n",
       "      <td>4.0</td>\n",
       "      <td>0.0</td>\n",
       "      <td>0.0</td>\n",
       "      <td>736749</td>\n",
       "      <td>10.0</td>\n",
       "      <td>6.0</td>\n",
       "      <td>9.0</td>\n",
       "    </tr>\n",
       "  </tbody>\n",
       "</table>\n",
       "<p>11026 rows × 14 columns</p>\n",
       "</div>"
      ],
      "text/plain": [
       "       Area_of_Origin  Business_Impact  Civilian_Casualties  \\\n",
       "0                16.0              4.0                    0   \n",
       "1                 2.0              6.0                    0   \n",
       "2                11.0              5.0                    1   \n",
       "3                22.0              0.0                    0   \n",
       "4                19.0              5.0                    8   \n",
       "...               ...              ...                  ...   \n",
       "11021            20.0              4.0                    0   \n",
       "11022            13.0              4.0                    0   \n",
       "11023            13.0              4.0                    0   \n",
       "11024            16.0              5.0                    6   \n",
       "11025            20.0              4.0                    0   \n",
       "\n",
       "       Count_of_Persons_Rescued  Estimated_Dollar_Loss  \\\n",
       "0                            86               8.006368   \n",
       "1                            28              10.819778   \n",
       "2                            16              13.815511   \n",
       "3                            12              13.815511   \n",
       "4                            11              11.736069   \n",
       "...                         ...                    ...   \n",
       "11021                         0               0.000000   \n",
       "11022                         0               6.907755   \n",
       "11023                         0               0.000000   \n",
       "11024                         0              11.512925   \n",
       "11025                         0               4.605170   \n",
       "\n",
       "       Estimated_Number_Of_Persons_Displaced  Extent_Of_Fire  \\\n",
       "0                                          0             0.0   \n",
       "1                                         28             1.0   \n",
       "2                                        130             8.0   \n",
       "3                                         14             3.0   \n",
       "4                                          2             8.0   \n",
       "...                                      ...             ...   \n",
       "11021                                      0             0.0   \n",
       "11022                                      0             0.0   \n",
       "11023                                      0             0.0   \n",
       "11024                                      1             1.0   \n",
       "11025                                      0             0.0   \n",
       "\n",
       "       Fire_Alarm_System_Impact_on_Evacuation  Fire_Alarm_System_Operation  \\\n",
       "0                                         4.0                          0.0   \n",
       "1                                         4.0                          1.0   \n",
       "2                                         5.0                          1.0   \n",
       "3                                         6.0                          2.0   \n",
       "4                                         5.0                          1.0   \n",
       "...                                       ...                          ...   \n",
       "11021                                     0.0                          1.0   \n",
       "11022                                     0.0                          1.0   \n",
       "11023                                     0.0                          1.0   \n",
       "11024                                     0.0                          1.0   \n",
       "11025                                     4.0                          0.0   \n",
       "\n",
       "       Fire_Alarm_System_Presence  Fire_Under_Control_Time  Ignition_Source  \\\n",
       "0                             0.0                   736930             19.0   \n",
       "1                             0.0                   737022             12.0   \n",
       "2                             0.0                   736369             19.0   \n",
       "3                             3.0                   734806             19.0   \n",
       "4                             0.0                   736883             10.0   \n",
       "...                           ...                      ...              ...   \n",
       "11021                         0.0                   736748             19.0   \n",
       "11022                         0.0                   736749              4.0   \n",
       "11023                         0.0                   736749              2.0   \n",
       "11024                         0.0                   736749             17.0   \n",
       "11025                         0.0                   736749             10.0   \n",
       "\n",
       "       Possible_Cause  Property_Use  \n",
       "0                19.0           8.0  \n",
       "1                18.0           9.0  \n",
       "2                19.0           8.0  \n",
       "3                19.0           9.0  \n",
       "4                14.0           8.0  \n",
       "...               ...           ...  \n",
       "11021             6.0           8.0  \n",
       "11022             2.0           4.0  \n",
       "11023            10.0           4.0  \n",
       "11024             6.0           8.0  \n",
       "11025             6.0           9.0  \n",
       "\n",
       "[11026 rows x 14 columns]"
      ]
     },
     "execution_count": 18,
     "metadata": {},
     "output_type": "execute_result"
    }
   ],
   "source": [
    "fire_data['Estimated_Dollar_Loss'] = Estimated_Dollar_Loss_Log\n",
    "fire_data"
   ]
  },
  {
   "cell_type": "code",
   "execution_count": 19,
   "id": "d13dc600",
   "metadata": {},
   "outputs": [
    {
     "name": "stderr",
     "output_type": "stream",
     "text": [
      "/Users/hadassah/opt/anaconda3/lib/python3.8/site-packages/seaborn/distributions.py:2557: FutureWarning: `distplot` is a deprecated function and will be removed in a future version. Please adapt your code to use either `displot` (a figure-level function with similar flexibility) or `histplot` (an axes-level function for histograms).\n",
      "  warnings.warn(msg, FutureWarning)\n"
     ]
    },
    {
     "data": {
      "text/plain": [
       "<AxesSubplot:xlabel='Estimated_Dollar_Loss', ylabel='Density'>"
      ]
     },
     "execution_count": 19,
     "metadata": {},
     "output_type": "execute_result"
    },
    {
     "data": {
      "image/png": "[encoded data removed]",
      "text/plain": [
       "<Figure size 432x288 with 1 Axes>"
      ]
     },
     "metadata": {
      "needs_background": "light"
     },
     "output_type": "display_data"
    }
   ],
   "source": [
    "# Let's see the new distribution after transformation\n",
    "\n",
    "sns.distplot(fire_data['Estimated_Dollar_Loss'])"
   ]
  },
  {
   "cell_type": "markdown",
   "id": "928706f7",
   "metadata": {},
   "source": [
    "## Machine Learning - Linear Regression Model"
   ]
  },
  {
   "cell_type": "markdown",
   "id": "ba374ca9",
   "metadata": {},
   "source": [
    "### Declare the Dependent and the Independent Variables"
   ]
  },
  {
   "cell_type": "code",
   "execution_count": 20,
   "id": "ec558292",
   "metadata": {},
   "outputs": [],
   "source": [
    "# We declare the features and the target.\n",
    "\n",
    "X = fire_data.loc[:, fire_data.columns != 'Estimated_Dollar_Loss']\n",
    "y = fire_data['Estimated_Dollar_Loss']"
   ]
  },
  {
   "cell_type": "markdown",
   "id": "a1cbd1a0",
   "metadata": {},
   "source": [
    "### Scale the data"
   ]
  },
  {
   "cell_type": "code",
   "execution_count": 21,
   "id": "654695d0",
   "metadata": {},
   "outputs": [
    {
     "data": {
      "text/plain": [
       "StandardScaler()"
      ]
     },
     "execution_count": 21,
     "metadata": {},
     "output_type": "execute_result"
    }
   ],
   "source": [
    "from sklearn.preprocessing import StandardScaler\n",
    "\n",
    "scaler = StandardScaler()\n",
    "\n",
    "# Fit the independent variables (calculate the mean and standard deviation feature-wise)\n",
    "scaler.fit(X)"
   ]
  },
  {
   "cell_type": "code",
   "execution_count": 22,
   "id": "7560e55c",
   "metadata": {},
   "outputs": [],
   "source": [
    "# Scale the features and store them in a new variable (the actual scaling procedure)\n",
    "\n",
    "X_scaled = scaler.transform(X)"
   ]
  },
  {
   "cell_type": "markdown",
   "id": "37191a8f",
   "metadata": {},
   "source": [
    "### Split the data"
   ]
  },
  {
   "cell_type": "code",
   "execution_count": 23,
   "id": "509d52c1",
   "metadata": {},
   "outputs": [],
   "source": [
    "from sklearn.model_selection import train_test_split\n",
    "\n",
    "X_train, X_test, y_train, y_test = train_test_split(X_scaled, y, test_size = 0.2, random_state = 365)"
   ]
  },
  {
   "cell_type": "code",
   "execution_count": 24,
   "id": "afa036a4",
   "metadata": {},
   "outputs": [
    {
     "data": {
      "text/plain": [
       "((8820, 13), (2206, 13), (8820,), (2206,))"
      ]
     },
     "execution_count": 24,
     "metadata": {},
     "output_type": "execute_result"
    }
   ],
   "source": [
    "X_train.shape, X_test.shape, y_train.shape, y_test.shape"
   ]
  },
  {
   "cell_type": "markdown",
   "id": "faec8fe2",
   "metadata": {},
   "source": [
    "### Fitting Multiple Linear Regression Model to Training Set"
   ]
  },
  {
   "cell_type": "code",
   "execution_count": 25,
   "id": "76ce9ae5",
   "metadata": {},
   "outputs": [
    {
     "data": {
      "text/plain": [
       "LinearRegression()"
      ]
     },
     "execution_count": 25,
     "metadata": {},
     "output_type": "execute_result"
    }
   ],
   "source": [
    "from sklearn.linear_model import LinearRegression\n",
    "\n",
    "reg = LinearRegression()\n",
    "reg.fit(X_train, y_train)"
   ]
  },
  {
   "cell_type": "code",
   "execution_count": 26,
   "id": "62a5ca01",
   "metadata": {},
   "outputs": [
    {
     "data": {
      "text/plain": [
       "array([ 8.25023616, 11.6790686 ,  6.65041658, ...,  9.96583873,\n",
       "        7.54232864,  5.51737381])"
      ]
     },
     "execution_count": 26,
     "metadata": {},
     "output_type": "execute_result"
    }
   ],
   "source": [
    "# Let's check the outputs of the regression, that is, we want to predict the Train set results.\n",
    "\n",
    "y_pred = reg.predict(X_train)\n",
    "y_pred"
   ]
  },
  {
   "cell_type": "code",
   "execution_count": 27,
   "id": "50f1a88e",
   "metadata": {
    "scrolled": false
   },
   "outputs": [
    {
     "data": {
      "image/png": "[encoded data removed]",
      "text/plain": [
       "<Figure size 432x288 with 1 Axes>"
      ]
     },
     "metadata": {
      "needs_background": "light"
     },
     "output_type": "display_data"
    }
   ],
   "source": [
    "# We use a scatter plot to compare the targets (y_train) and the predictions (y_pred)\n",
    "\n",
    "plt.scatter(y_train, y_pred)\n",
    "\n",
    "plt.xlabel('Targets (y_train)', fontsize=18)\n",
    "plt.ylabel('Predictions (y_pred)', fontsize=18)\n",
    "\n",
    "plt.show()"
   ]
  },
  {
   "cell_type": "code",
   "execution_count": 28,
   "id": "36f305c5",
   "metadata": {},
   "outputs": [
    {
     "data": {
      "text/plain": [
       "0.2731650793778789"
      ]
     },
     "execution_count": 28,
     "metadata": {},
     "output_type": "execute_result"
    }
   ],
   "source": [
    "# Evaluating the model. We find the R-squared of the model.\n",
    "\n",
    "reg.score(X_train,y_train)"
   ]
  },
  {
   "cell_type": "code",
   "execution_count": 29,
   "id": "9f589bf6",
   "metadata": {},
   "outputs": [
    {
     "data": {
      "text/plain": [
       "0.2720920775645599"
      ]
     },
     "execution_count": 29,
     "metadata": {},
     "output_type": "execute_result"
    }
   ],
   "source": [
    "# To find the Adjusted R-squared\n",
    "\n",
    "r2 = reg.score(X_train,y_train)\n",
    "n = X_train.shape[0]\n",
    "p = X_train.shape[1]\n",
    "\n",
    "adjusted_r2 = 1 -(1-r2)*(n-1)/(n-p-1)\n",
    "adjusted_r2"
   ]
  },
  {
   "cell_type": "markdown",
   "id": "fefafe79",
   "metadata": {},
   "source": [
    "The Adjusted R-squared is less than the R-squared, and this means that one or more of the features have little or no significance in predicting the Estimated Dollar Loss."
   ]
  },
  {
   "cell_type": "code",
   "execution_count": 30,
   "id": "1b10c62a",
   "metadata": {
    "scrolled": false
   },
   "outputs": [
    {
     "data": {
      "text/html": [
       "<div>\n",
       "<style scoped>\n",
       "    .dataframe tbody tr th:only-of-type {\n",
       "        vertical-align: middle;\n",
       "    }\n",
       "\n",
       "    .dataframe tbody tr th {\n",
       "        vertical-align: top;\n",
       "    }\n",
       "\n",
       "    .dataframe thead th {\n",
       "        text-align: right;\n",
       "    }\n",
       "</style>\n",
       "<table border=\"1\" class=\"dataframe\">\n",
       "  <thead>\n",
       "    <tr style=\"text-align: right;\">\n",
       "      <th></th>\n",
       "      <th>Features</th>\n",
       "      <th>Weights</th>\n",
       "    </tr>\n",
       "  </thead>\n",
       "  <tbody>\n",
       "    <tr>\n",
       "      <th>0</th>\n",
       "      <td>Area_of_Origin</td>\n",
       "      <td>-0.556371</td>\n",
       "    </tr>\n",
       "    <tr>\n",
       "      <th>1</th>\n",
       "      <td>Business_Impact</td>\n",
       "      <td>-0.164027</td>\n",
       "    </tr>\n",
       "    <tr>\n",
       "      <th>2</th>\n",
       "      <td>Civilian_Casualties</td>\n",
       "      <td>0.197662</td>\n",
       "    </tr>\n",
       "    <tr>\n",
       "      <th>3</th>\n",
       "      <td>Count_of_Persons_Rescued</td>\n",
       "      <td>0.091370</td>\n",
       "    </tr>\n",
       "    <tr>\n",
       "      <th>4</th>\n",
       "      <td>Estimated_Number_Of_Persons_Displaced</td>\n",
       "      <td>0.188827</td>\n",
       "    </tr>\n",
       "    <tr>\n",
       "      <th>5</th>\n",
       "      <td>Extent_Of_Fire</td>\n",
       "      <td>1.546175</td>\n",
       "    </tr>\n",
       "    <tr>\n",
       "      <th>6</th>\n",
       "      <td>Fire_Alarm_System_Impact_on_Evacuation</td>\n",
       "      <td>-0.146625</td>\n",
       "    </tr>\n",
       "    <tr>\n",
       "      <th>7</th>\n",
       "      <td>Fire_Alarm_System_Operation</td>\n",
       "      <td>0.321344</td>\n",
       "    </tr>\n",
       "    <tr>\n",
       "      <th>8</th>\n",
       "      <td>Fire_Alarm_System_Presence</td>\n",
       "      <td>0.044245</td>\n",
       "    </tr>\n",
       "    <tr>\n",
       "      <th>9</th>\n",
       "      <td>Fire_Under_Control_Time</td>\n",
       "      <td>0.157171</td>\n",
       "    </tr>\n",
       "    <tr>\n",
       "      <th>10</th>\n",
       "      <td>Ignition_Source</td>\n",
       "      <td>-0.367598</td>\n",
       "    </tr>\n",
       "    <tr>\n",
       "      <th>11</th>\n",
       "      <td>Possible_Cause</td>\n",
       "      <td>-0.043987</td>\n",
       "    </tr>\n",
       "    <tr>\n",
       "      <th>12</th>\n",
       "      <td>Property_Use</td>\n",
       "      <td>-0.239898</td>\n",
       "    </tr>\n",
       "  </tbody>\n",
       "</table>\n",
       "</div>"
      ],
      "text/plain": [
       "                                  Features   Weights\n",
       "0                           Area_of_Origin -0.556371\n",
       "1                          Business_Impact -0.164027\n",
       "2                      Civilian_Casualties  0.197662\n",
       "3                 Count_of_Persons_Rescued  0.091370\n",
       "4    Estimated_Number_Of_Persons_Displaced  0.188827\n",
       "5                           Extent_Of_Fire  1.546175\n",
       "6   Fire_Alarm_System_Impact_on_Evacuation -0.146625\n",
       "7              Fire_Alarm_System_Operation  0.321344\n",
       "8               Fire_Alarm_System_Presence  0.044245\n",
       "9                  Fire_Under_Control_Time  0.157171\n",
       "10                         Ignition_Source -0.367598\n",
       "11                          Possible_Cause -0.043987\n",
       "12                            Property_Use -0.239898"
      ]
     },
     "execution_count": 30,
     "metadata": {},
     "output_type": "execute_result"
    }
   ],
   "source": [
    "# Create a regression summary where we can compare the features by their coefficients\n",
    "\n",
    "reg_summary = pd.DataFrame(X.columns.values, columns=['Features'])\n",
    "reg_summary['Weights'] = reg.coef_\n",
    "reg_summary"
   ]
  },
  {
   "cell_type": "markdown",
   "id": "54293bfa",
   "metadata": {},
   "source": [
    "A positive weight shows that as a feature increases in value, so does the 'Estimated Dollar Price', while a Negative weight shows that as a feature decreases in value, 'Estimated Dollar Price' decrease ."
   ]
  },
  {
   "cell_type": "markdown",
   "id": "b4755103",
   "metadata": {},
   "source": [
    "### Testing"
   ]
  },
  {
   "cell_type": "code",
   "execution_count": 31,
   "id": "aa6364b2",
   "metadata": {},
   "outputs": [],
   "source": [
    "# Our test inputs are 'X_test', while the outputs are 'y_test', we just feed them and find the predictions\n",
    "# If the predictions are far off, we will know that our model overfitted\n",
    "y_pred_test = reg.predict(X_test)"
   ]
  },
  {
   "cell_type": "code",
   "execution_count": 32,
   "id": "ee159715",
   "metadata": {},
   "outputs": [
    {
     "name": "stdout",
     "output_type": "stream",
     "text": [
      "The R-Squared score of our model is 0.2531726444481649%\n"
     ]
    }
   ],
   "source": [
    "from sklearn.metrics import r2_score\n",
    "r2_score = r2_score(y_test, y_pred_test)\n",
    "print(\"The R-Squared score of our model is {}%\".format(r2_score))"
   ]
  },
  {
   "cell_type": "code",
   "execution_count": 33,
   "id": "3ecff230",
   "metadata": {},
   "outputs": [
    {
     "name": "stdout",
     "output_type": "stream",
     "text": [
      "The Root Mean Squared Error of our Model is 3.072005334549751\n"
     ]
    }
   ],
   "source": [
    "from sklearn.metrics import mean_squared_error\n",
    "import math\n",
    "rmse_score = math.sqrt(mean_squared_error(y_test, y_pred_test))\n",
    "print(\"The Root Mean Squared Error of our Model is {}\".format(rmse_score))"
   ]
  },
  {
   "cell_type": "code",
   "execution_count": 34,
   "id": "7494a971",
   "metadata": {},
   "outputs": [
    {
     "data": {
      "text/html": [
       "<div>\n",
       "<style scoped>\n",
       "    .dataframe tbody tr th:only-of-type {\n",
       "        vertical-align: middle;\n",
       "    }\n",
       "\n",
       "    .dataframe tbody tr th {\n",
       "        vertical-align: top;\n",
       "    }\n",
       "\n",
       "    .dataframe thead th {\n",
       "        text-align: right;\n",
       "    }\n",
       "</style>\n",
       "<table border=\"1\" class=\"dataframe\">\n",
       "  <thead>\n",
       "    <tr style=\"text-align: right;\">\n",
       "      <th></th>\n",
       "      <th>Prediction</th>\n",
       "    </tr>\n",
       "  </thead>\n",
       "  <tbody>\n",
       "    <tr>\n",
       "      <th>0</th>\n",
       "      <td>281.886997</td>\n",
       "    </tr>\n",
       "    <tr>\n",
       "      <th>1</th>\n",
       "      <td>2035.590489</td>\n",
       "    </tr>\n",
       "    <tr>\n",
       "      <th>2</th>\n",
       "      <td>1328.881526</td>\n",
       "    </tr>\n",
       "    <tr>\n",
       "      <th>3</th>\n",
       "      <td>419.059338</td>\n",
       "    </tr>\n",
       "    <tr>\n",
       "      <th>4</th>\n",
       "      <td>995.804393</td>\n",
       "    </tr>\n",
       "  </tbody>\n",
       "</table>\n",
       "</div>"
      ],
      "text/plain": [
       "    Prediction\n",
       "0   281.886997\n",
       "1  2035.590489\n",
       "2  1328.881526\n",
       "3   419.059338\n",
       "4   995.804393"
      ]
     },
     "execution_count": 34,
     "metadata": {},
     "output_type": "execute_result"
    }
   ],
   "source": [
    "# Finally, let's manually check these predictions using the actual Estimated Dollar Loss\n",
    "\n",
    "df = pd.DataFrame(np.exp(y_pred_test), columns=['Prediction'])\n",
    "df.head()"
   ]
  },
  {
   "cell_type": "code",
   "execution_count": 35,
   "id": "2dd0e840",
   "metadata": {},
   "outputs": [
    {
     "data": {
      "text/html": [
       "<div>\n",
       "<style scoped>\n",
       "    .dataframe tbody tr th:only-of-type {\n",
       "        vertical-align: middle;\n",
       "    }\n",
       "\n",
       "    .dataframe tbody tr th {\n",
       "        vertical-align: top;\n",
       "    }\n",
       "\n",
       "    .dataframe thead th {\n",
       "        text-align: right;\n",
       "    }\n",
       "</style>\n",
       "<table border=\"1\" class=\"dataframe\">\n",
       "  <thead>\n",
       "    <tr style=\"text-align: right;\">\n",
       "      <th></th>\n",
       "      <th>Prediction</th>\n",
       "      <th>Actual</th>\n",
       "    </tr>\n",
       "  </thead>\n",
       "  <tbody>\n",
       "    <tr>\n",
       "      <th>0</th>\n",
       "      <td>281.886997</td>\n",
       "      <td>NaN</td>\n",
       "    </tr>\n",
       "    <tr>\n",
       "      <th>1</th>\n",
       "      <td>2035.590489</td>\n",
       "      <td>NaN</td>\n",
       "    </tr>\n",
       "    <tr>\n",
       "      <th>2</th>\n",
       "      <td>1328.881526</td>\n",
       "      <td>NaN</td>\n",
       "    </tr>\n",
       "    <tr>\n",
       "      <th>3</th>\n",
       "      <td>419.059338</td>\n",
       "      <td>NaN</td>\n",
       "    </tr>\n",
       "    <tr>\n",
       "      <th>4</th>\n",
       "      <td>995.804393</td>\n",
       "      <td>NaN</td>\n",
       "    </tr>\n",
       "    <tr>\n",
       "      <th>...</th>\n",
       "      <td>...</td>\n",
       "      <td>...</td>\n",
       "    </tr>\n",
       "    <tr>\n",
       "      <th>2201</th>\n",
       "      <td>2258.558304</td>\n",
       "      <td>NaN</td>\n",
       "    </tr>\n",
       "    <tr>\n",
       "      <th>2202</th>\n",
       "      <td>462.751529</td>\n",
       "      <td>NaN</td>\n",
       "    </tr>\n",
       "    <tr>\n",
       "      <th>2203</th>\n",
       "      <td>555.614663</td>\n",
       "      <td>NaN</td>\n",
       "    </tr>\n",
       "    <tr>\n",
       "      <th>2204</th>\n",
       "      <td>9406.288202</td>\n",
       "      <td>NaN</td>\n",
       "    </tr>\n",
       "    <tr>\n",
       "      <th>2205</th>\n",
       "      <td>1542.563897</td>\n",
       "      <td>NaN</td>\n",
       "    </tr>\n",
       "  </tbody>\n",
       "</table>\n",
       "<p>2206 rows × 2 columns</p>\n",
       "</div>"
      ],
      "text/plain": [
       "       Prediction  Actual\n",
       "0      281.886997     NaN\n",
       "1     2035.590489     NaN\n",
       "2     1328.881526     NaN\n",
       "3      419.059338     NaN\n",
       "4      995.804393     NaN\n",
       "...           ...     ...\n",
       "2201  2258.558304     NaN\n",
       "2202   462.751529     NaN\n",
       "2203   555.614663     NaN\n",
       "2204  9406.288202     NaN\n",
       "2205  1542.563897     NaN\n",
       "\n",
       "[2206 rows x 2 columns]"
      ]
     },
     "execution_count": 35,
     "metadata": {},
     "output_type": "execute_result"
    }
   ],
   "source": [
    "df['Actual'] = np.exp(y_test)\n",
    "df"
   ]
  },
  {
   "cell_type": "code",
   "execution_count": 36,
   "id": "44daa8a7",
   "metadata": {},
   "outputs": [
    {
     "data": {
      "text/plain": [
       "0     0.000000\n",
       "1     8.517193\n",
       "2     0.000000\n",
       "3     4.605170\n",
       "4    11.512925\n",
       "Name: Estimated_Dollar_Loss, dtype: float64"
      ]
     },
     "execution_count": 36,
     "metadata": {},
     "output_type": "execute_result"
    }
   ],
   "source": [
    "# After displaying y_test, we find what the issue is the old indexes are preserved\n",
    "# Therefore, to get a proper result, we must reset the index and drop the old indexing\n",
    "\n",
    "y_test = y_test.reset_index(drop=True)\n",
    "y_test.head()"
   ]
  },
  {
   "cell_type": "code",
   "execution_count": 37,
   "id": "67e0c596",
   "metadata": {
    "scrolled": true
   },
   "outputs": [
    {
     "data": {
      "text/html": [
       "<div>\n",
       "<style scoped>\n",
       "    .dataframe tbody tr th:only-of-type {\n",
       "        vertical-align: middle;\n",
       "    }\n",
       "\n",
       "    .dataframe tbody tr th {\n",
       "        vertical-align: top;\n",
       "    }\n",
       "\n",
       "    .dataframe thead th {\n",
       "        text-align: right;\n",
       "    }\n",
       "</style>\n",
       "<table border=\"1\" class=\"dataframe\">\n",
       "  <thead>\n",
       "    <tr style=\"text-align: right;\">\n",
       "      <th></th>\n",
       "      <th>Prediction</th>\n",
       "      <th>Actual</th>\n",
       "    </tr>\n",
       "  </thead>\n",
       "  <tbody>\n",
       "    <tr>\n",
       "      <th>0</th>\n",
       "      <td>281.886997</td>\n",
       "      <td>1.0</td>\n",
       "    </tr>\n",
       "    <tr>\n",
       "      <th>1</th>\n",
       "      <td>2035.590489</td>\n",
       "      <td>5000.0</td>\n",
       "    </tr>\n",
       "    <tr>\n",
       "      <th>2</th>\n",
       "      <td>1328.881526</td>\n",
       "      <td>1.0</td>\n",
       "    </tr>\n",
       "    <tr>\n",
       "      <th>3</th>\n",
       "      <td>419.059338</td>\n",
       "      <td>100.0</td>\n",
       "    </tr>\n",
       "    <tr>\n",
       "      <th>4</th>\n",
       "      <td>995.804393</td>\n",
       "      <td>100000.0</td>\n",
       "    </tr>\n",
       "    <tr>\n",
       "      <th>...</th>\n",
       "      <td>...</td>\n",
       "      <td>...</td>\n",
       "    </tr>\n",
       "    <tr>\n",
       "      <th>2201</th>\n",
       "      <td>2258.558304</td>\n",
       "      <td>3000.0</td>\n",
       "    </tr>\n",
       "    <tr>\n",
       "      <th>2202</th>\n",
       "      <td>462.751529</td>\n",
       "      <td>250.0</td>\n",
       "    </tr>\n",
       "    <tr>\n",
       "      <th>2203</th>\n",
       "      <td>555.614663</td>\n",
       "      <td>150.0</td>\n",
       "    </tr>\n",
       "    <tr>\n",
       "      <th>2204</th>\n",
       "      <td>9406.288202</td>\n",
       "      <td>20000.0</td>\n",
       "    </tr>\n",
       "    <tr>\n",
       "      <th>2205</th>\n",
       "      <td>1542.563897</td>\n",
       "      <td>100.0</td>\n",
       "    </tr>\n",
       "  </tbody>\n",
       "</table>\n",
       "<p>2206 rows × 2 columns</p>\n",
       "</div>"
      ],
      "text/plain": [
       "       Prediction    Actual\n",
       "0      281.886997       1.0\n",
       "1     2035.590489    5000.0\n",
       "2     1328.881526       1.0\n",
       "3      419.059338     100.0\n",
       "4      995.804393  100000.0\n",
       "...           ...       ...\n",
       "2201  2258.558304    3000.0\n",
       "2202   462.751529     250.0\n",
       "2203   555.614663     150.0\n",
       "2204  9406.288202   20000.0\n",
       "2205  1542.563897     100.0\n",
       "\n",
       "[2206 rows x 2 columns]"
      ]
     },
     "execution_count": 37,
     "metadata": {},
     "output_type": "execute_result"
    }
   ],
   "source": [
    "# Let's overwrite the 'Target' column with the appropriate values\n",
    "# Again, we need the exponential of the test log price\n",
    "\n",
    "df['Actual'] = np.exp(y_test)\n",
    "df"
   ]
  },
  {
   "cell_type": "markdown",
   "id": "77fd209f",
   "metadata": {},
   "source": [
    "Additionally, we can calculate the difference between the actual values and the predictions, also called Residuals.\n",
    " \n",
    " Residuals are the difference between the actual and predicted values. You can think of residuals as being a distance. So, the closer the residual is to zero, the better our model performs in making its predictions."
   ]
  },
  {
   "cell_type": "code",
   "execution_count": 38,
   "id": "5c4ab824",
   "metadata": {},
   "outputs": [],
   "source": [
    "df['Residual'] = df['Actual'] - df['Prediction']"
   ]
  },
  {
   "cell_type": "code",
   "execution_count": 39,
   "id": "55dc2ecf",
   "metadata": {},
   "outputs": [
    {
     "data": {
      "text/html": [
       "<div>\n",
       "<style scoped>\n",
       "    .dataframe tbody tr th:only-of-type {\n",
       "        vertical-align: middle;\n",
       "    }\n",
       "\n",
       "    .dataframe tbody tr th {\n",
       "        vertical-align: top;\n",
       "    }\n",
       "\n",
       "    .dataframe thead th {\n",
       "        text-align: right;\n",
       "    }\n",
       "</style>\n",
       "<table border=\"1\" class=\"dataframe\">\n",
       "  <thead>\n",
       "    <tr style=\"text-align: right;\">\n",
       "      <th></th>\n",
       "      <th>Prediction</th>\n",
       "      <th>Actual</th>\n",
       "      <th>Residual</th>\n",
       "      <th>Difference%</th>\n",
       "    </tr>\n",
       "  </thead>\n",
       "  <tbody>\n",
       "    <tr>\n",
       "      <th>0</th>\n",
       "      <td>281.886997</td>\n",
       "      <td>1.0</td>\n",
       "      <td>-280.886997</td>\n",
       "      <td>28088.699730</td>\n",
       "    </tr>\n",
       "    <tr>\n",
       "      <th>1</th>\n",
       "      <td>2035.590489</td>\n",
       "      <td>5000.0</td>\n",
       "      <td>2964.409511</td>\n",
       "      <td>59.288190</td>\n",
       "    </tr>\n",
       "    <tr>\n",
       "      <th>2</th>\n",
       "      <td>1328.881526</td>\n",
       "      <td>1.0</td>\n",
       "      <td>-1327.881526</td>\n",
       "      <td>132788.152583</td>\n",
       "    </tr>\n",
       "    <tr>\n",
       "      <th>3</th>\n",
       "      <td>419.059338</td>\n",
       "      <td>100.0</td>\n",
       "      <td>-319.059338</td>\n",
       "      <td>319.059338</td>\n",
       "    </tr>\n",
       "    <tr>\n",
       "      <th>4</th>\n",
       "      <td>995.804393</td>\n",
       "      <td>100000.0</td>\n",
       "      <td>99004.195607</td>\n",
       "      <td>99.004196</td>\n",
       "    </tr>\n",
       "    <tr>\n",
       "      <th>...</th>\n",
       "      <td>...</td>\n",
       "      <td>...</td>\n",
       "      <td>...</td>\n",
       "      <td>...</td>\n",
       "    </tr>\n",
       "    <tr>\n",
       "      <th>2201</th>\n",
       "      <td>2258.558304</td>\n",
       "      <td>3000.0</td>\n",
       "      <td>741.441696</td>\n",
       "      <td>24.714723</td>\n",
       "    </tr>\n",
       "    <tr>\n",
       "      <th>2202</th>\n",
       "      <td>462.751529</td>\n",
       "      <td>250.0</td>\n",
       "      <td>-212.751529</td>\n",
       "      <td>85.100611</td>\n",
       "    </tr>\n",
       "    <tr>\n",
       "      <th>2203</th>\n",
       "      <td>555.614663</td>\n",
       "      <td>150.0</td>\n",
       "      <td>-405.614663</td>\n",
       "      <td>270.409775</td>\n",
       "    </tr>\n",
       "    <tr>\n",
       "      <th>2204</th>\n",
       "      <td>9406.288202</td>\n",
       "      <td>20000.0</td>\n",
       "      <td>10593.711798</td>\n",
       "      <td>52.968559</td>\n",
       "    </tr>\n",
       "    <tr>\n",
       "      <th>2205</th>\n",
       "      <td>1542.563897</td>\n",
       "      <td>100.0</td>\n",
       "      <td>-1442.563897</td>\n",
       "      <td>1442.563897</td>\n",
       "    </tr>\n",
       "  </tbody>\n",
       "</table>\n",
       "<p>2206 rows × 4 columns</p>\n",
       "</div>"
      ],
      "text/plain": [
       "       Prediction    Actual      Residual    Difference%\n",
       "0      281.886997       1.0   -280.886997   28088.699730\n",
       "1     2035.590489    5000.0   2964.409511      59.288190\n",
       "2     1328.881526       1.0  -1327.881526  132788.152583\n",
       "3      419.059338     100.0   -319.059338     319.059338\n",
       "4      995.804393  100000.0  99004.195607      99.004196\n",
       "...           ...       ...           ...            ...\n",
       "2201  2258.558304    3000.0    741.441696      24.714723\n",
       "2202   462.751529     250.0   -212.751529      85.100611\n",
       "2203   555.614663     150.0   -405.614663     270.409775\n",
       "2204  9406.288202   20000.0  10593.711798      52.968559\n",
       "2205  1542.563897     100.0  -1442.563897    1442.563897\n",
       "\n",
       "[2206 rows x 4 columns]"
      ]
     },
     "execution_count": 39,
     "metadata": {},
     "output_type": "execute_result"
    }
   ],
   "source": [
    "# We want to see how far off we are from the result percentage-wise\n",
    "\n",
    "df['Difference%'] = np.absolute(df['Residual']/df['Actual']*100)\n",
    "df"
   ]
  },
  {
   "cell_type": "markdown",
   "id": "eef59858",
   "metadata": {},
   "source": [
    "## Conclusion"
   ]
  },
  {
   "cell_type": "markdown",
   "id": "759fe047",
   "metadata": {},
   "source": [
    "We notice that the Estimated Dollar Loss does not have a causal relationship with most of the features in the dataset. It is even clearly seen from the heatmap we plotted. This may be because the data was not collected from only businesses but from every fire incidents that occured in Toronto in that time."
   ]
  }
 ],
 "metadata": {
  "kernelspec": {
   "display_name": "Python 3",
   "language": "python",
   "name": "python3"
  },
  "language_info": {
   "codemirror_mode": {
    "name": "ipython",
    "version": 3
   },
   "file_extension": ".py",
   "mimetype": "text/x-python",
   "name": "python",
   "nbconvert_exporter": "python",
   "pygments_lexer": "ipython3",
   "version": "3.8.8"
  }
 },
 "nbformat": 4,
 "nbformat_minor": 5
}
